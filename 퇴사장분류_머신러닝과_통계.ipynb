{
  "nbformat": 4,
  "nbformat_minor": 0,
  "metadata": {
    "colab": {
      "name": "퇴사장분류 - 머신러닝과 통계.ipynb",
      "provenance": [],
      "collapsed_sections": [
        "1Hr8r0D1wL-y"
      ],
      "authorship_tag": "ABX9TyMmReL+gEN7m0wSdhtmZ2PQ",
      "include_colab_link": true
    },
    "kernelspec": {
      "name": "python3",
      "display_name": "Python 3"
    },
    "language_info": {
      "name": "python"
    }
  },
  "cells": [
    {
      "cell_type": "markdown",
      "metadata": {
        "id": "view-in-github",
        "colab_type": "text"
      },
      "source": [
        "<a href=\"https://colab.research.google.com/github/koreahong/statistic_for_machine_learning-randomforest-logisticregression/blob/main/%ED%87%B4%EC%82%AC%EC%9E%A5%EB%B6%84%EB%A5%98_%EB%A8%B8%EC%8B%A0%EB%9F%AC%EB%8B%9D%EA%B3%BC_%ED%86%B5%EA%B3%84.ipynb\" target=\"_parent\"><img src=\"https://colab.research.google.com/assets/colab-badge.svg\" alt=\"Open In Colab\"/></a>"
      ]
    },
    {
      "cell_type": "code",
      "metadata": {
        "id": "yjjJLpuklWo9"
      },
      "source": [
        "import numpy as np\n",
        "import pandas as pd\n",
        "from sklearn.preprocessing import StandardScaler as SS\n",
        "from sklearn.model_selection import train_test_split\n",
        "from sklearn.ensemble import RandomForestClassifier as rf\n",
        "from sklearn.linear_model import LogisticRegression as lr\n",
        "from sklearn.model_selection import cross_val_predict\n",
        "from sklearn.metrics import confusion_matrix\n",
        "from sklearn.metrics import precision_score, recall_score, f1_score\n",
        "from sklearn.metrics import accuracy_score,classification_report\n",
        "import matplotlib.pyplot as plt"
      ],
      "execution_count": 285,
      "outputs": []
    },
    {
      "cell_type": "code",
      "metadata": {
        "id": "Hy78mtLllZug"
      },
      "source": [
        "hrattr_data = pd.read_csv(\"https://raw.githubusercontent.com/PacktPublishing/Statistics-for-Machine-Learning/master/Chapter04/WA_Fn-UseC_-HR-Employee-Attrition.csv\")"
      ],
      "execution_count": 241,
      "outputs": []
    },
    {
      "cell_type": "code",
      "metadata": {
        "colab": {
          "base_uri": "https://localhost:8080/",
          "height": 313
        },
        "id": "j2Goj6JHjnnd",
        "outputId": "65319db9-a000-4865-bd09-8d70739bea71"
      },
      "source": [
        "hrattr_data.head()"
      ],
      "execution_count": 242,
      "outputs": [
        {
          "output_type": "execute_result",
          "data": {
            "text/html": [
              "<div>\n",
              "<style scoped>\n",
              "    .dataframe tbody tr th:only-of-type {\n",
              "        vertical-align: middle;\n",
              "    }\n",
              "\n",
              "    .dataframe tbody tr th {\n",
              "        vertical-align: top;\n",
              "    }\n",
              "\n",
              "    .dataframe thead th {\n",
              "        text-align: right;\n",
              "    }\n",
              "</style>\n",
              "<table border=\"1\" class=\"dataframe\">\n",
              "  <thead>\n",
              "    <tr style=\"text-align: right;\">\n",
              "      <th></th>\n",
              "      <th>Age</th>\n",
              "      <th>Attrition</th>\n",
              "      <th>BusinessTravel</th>\n",
              "      <th>DailyRate</th>\n",
              "      <th>Department</th>\n",
              "      <th>DistanceFromHome</th>\n",
              "      <th>Education</th>\n",
              "      <th>EducationField</th>\n",
              "      <th>EmployeeCount</th>\n",
              "      <th>EmployeeNumber</th>\n",
              "      <th>EnvironmentSatisfaction</th>\n",
              "      <th>Gender</th>\n",
              "      <th>HourlyRate</th>\n",
              "      <th>JobInvolvement</th>\n",
              "      <th>JobLevel</th>\n",
              "      <th>JobRole</th>\n",
              "      <th>JobSatisfaction</th>\n",
              "      <th>MaritalStatus</th>\n",
              "      <th>MonthlyIncome</th>\n",
              "      <th>MonthlyRate</th>\n",
              "      <th>NumCompaniesWorked</th>\n",
              "      <th>Over18</th>\n",
              "      <th>OverTime</th>\n",
              "      <th>PercentSalaryHike</th>\n",
              "      <th>PerformanceRating</th>\n",
              "      <th>RelationshipSatisfaction</th>\n",
              "      <th>StandardHours</th>\n",
              "      <th>StockOptionLevel</th>\n",
              "      <th>TotalWorkingYears</th>\n",
              "      <th>TrainingTimesLastYear</th>\n",
              "      <th>WorkLifeBalance</th>\n",
              "      <th>YearsAtCompany</th>\n",
              "      <th>YearsInCurrentRole</th>\n",
              "      <th>YearsSinceLastPromotion</th>\n",
              "      <th>YearsWithCurrManager</th>\n",
              "    </tr>\n",
              "  </thead>\n",
              "  <tbody>\n",
              "    <tr>\n",
              "      <th>0</th>\n",
              "      <td>41</td>\n",
              "      <td>Yes</td>\n",
              "      <td>Travel_Rarely</td>\n",
              "      <td>1102</td>\n",
              "      <td>Sales</td>\n",
              "      <td>1</td>\n",
              "      <td>2</td>\n",
              "      <td>Life Sciences</td>\n",
              "      <td>1</td>\n",
              "      <td>1</td>\n",
              "      <td>2</td>\n",
              "      <td>Female</td>\n",
              "      <td>94</td>\n",
              "      <td>3</td>\n",
              "      <td>2</td>\n",
              "      <td>Sales Executive</td>\n",
              "      <td>4</td>\n",
              "      <td>Single</td>\n",
              "      <td>5993</td>\n",
              "      <td>19479</td>\n",
              "      <td>8</td>\n",
              "      <td>Y</td>\n",
              "      <td>Yes</td>\n",
              "      <td>11</td>\n",
              "      <td>3</td>\n",
              "      <td>1</td>\n",
              "      <td>80</td>\n",
              "      <td>0</td>\n",
              "      <td>8</td>\n",
              "      <td>0</td>\n",
              "      <td>1</td>\n",
              "      <td>6</td>\n",
              "      <td>4</td>\n",
              "      <td>0</td>\n",
              "      <td>5</td>\n",
              "    </tr>\n",
              "    <tr>\n",
              "      <th>1</th>\n",
              "      <td>49</td>\n",
              "      <td>No</td>\n",
              "      <td>Travel_Frequently</td>\n",
              "      <td>279</td>\n",
              "      <td>Research &amp; Development</td>\n",
              "      <td>8</td>\n",
              "      <td>1</td>\n",
              "      <td>Life Sciences</td>\n",
              "      <td>1</td>\n",
              "      <td>2</td>\n",
              "      <td>3</td>\n",
              "      <td>Male</td>\n",
              "      <td>61</td>\n",
              "      <td>2</td>\n",
              "      <td>2</td>\n",
              "      <td>Research Scientist</td>\n",
              "      <td>2</td>\n",
              "      <td>Married</td>\n",
              "      <td>5130</td>\n",
              "      <td>24907</td>\n",
              "      <td>1</td>\n",
              "      <td>Y</td>\n",
              "      <td>No</td>\n",
              "      <td>23</td>\n",
              "      <td>4</td>\n",
              "      <td>4</td>\n",
              "      <td>80</td>\n",
              "      <td>1</td>\n",
              "      <td>10</td>\n",
              "      <td>3</td>\n",
              "      <td>3</td>\n",
              "      <td>10</td>\n",
              "      <td>7</td>\n",
              "      <td>1</td>\n",
              "      <td>7</td>\n",
              "    </tr>\n",
              "    <tr>\n",
              "      <th>2</th>\n",
              "      <td>37</td>\n",
              "      <td>Yes</td>\n",
              "      <td>Travel_Rarely</td>\n",
              "      <td>1373</td>\n",
              "      <td>Research &amp; Development</td>\n",
              "      <td>2</td>\n",
              "      <td>2</td>\n",
              "      <td>Other</td>\n",
              "      <td>1</td>\n",
              "      <td>4</td>\n",
              "      <td>4</td>\n",
              "      <td>Male</td>\n",
              "      <td>92</td>\n",
              "      <td>2</td>\n",
              "      <td>1</td>\n",
              "      <td>Laboratory Technician</td>\n",
              "      <td>3</td>\n",
              "      <td>Single</td>\n",
              "      <td>2090</td>\n",
              "      <td>2396</td>\n",
              "      <td>6</td>\n",
              "      <td>Y</td>\n",
              "      <td>Yes</td>\n",
              "      <td>15</td>\n",
              "      <td>3</td>\n",
              "      <td>2</td>\n",
              "      <td>80</td>\n",
              "      <td>0</td>\n",
              "      <td>7</td>\n",
              "      <td>3</td>\n",
              "      <td>3</td>\n",
              "      <td>0</td>\n",
              "      <td>0</td>\n",
              "      <td>0</td>\n",
              "      <td>0</td>\n",
              "    </tr>\n",
              "    <tr>\n",
              "      <th>3</th>\n",
              "      <td>33</td>\n",
              "      <td>No</td>\n",
              "      <td>Travel_Frequently</td>\n",
              "      <td>1392</td>\n",
              "      <td>Research &amp; Development</td>\n",
              "      <td>3</td>\n",
              "      <td>4</td>\n",
              "      <td>Life Sciences</td>\n",
              "      <td>1</td>\n",
              "      <td>5</td>\n",
              "      <td>4</td>\n",
              "      <td>Female</td>\n",
              "      <td>56</td>\n",
              "      <td>3</td>\n",
              "      <td>1</td>\n",
              "      <td>Research Scientist</td>\n",
              "      <td>3</td>\n",
              "      <td>Married</td>\n",
              "      <td>2909</td>\n",
              "      <td>23159</td>\n",
              "      <td>1</td>\n",
              "      <td>Y</td>\n",
              "      <td>Yes</td>\n",
              "      <td>11</td>\n",
              "      <td>3</td>\n",
              "      <td>3</td>\n",
              "      <td>80</td>\n",
              "      <td>0</td>\n",
              "      <td>8</td>\n",
              "      <td>3</td>\n",
              "      <td>3</td>\n",
              "      <td>8</td>\n",
              "      <td>7</td>\n",
              "      <td>3</td>\n",
              "      <td>0</td>\n",
              "    </tr>\n",
              "    <tr>\n",
              "      <th>4</th>\n",
              "      <td>27</td>\n",
              "      <td>No</td>\n",
              "      <td>Travel_Rarely</td>\n",
              "      <td>591</td>\n",
              "      <td>Research &amp; Development</td>\n",
              "      <td>2</td>\n",
              "      <td>1</td>\n",
              "      <td>Medical</td>\n",
              "      <td>1</td>\n",
              "      <td>7</td>\n",
              "      <td>1</td>\n",
              "      <td>Male</td>\n",
              "      <td>40</td>\n",
              "      <td>3</td>\n",
              "      <td>1</td>\n",
              "      <td>Laboratory Technician</td>\n",
              "      <td>2</td>\n",
              "      <td>Married</td>\n",
              "      <td>3468</td>\n",
              "      <td>16632</td>\n",
              "      <td>9</td>\n",
              "      <td>Y</td>\n",
              "      <td>No</td>\n",
              "      <td>12</td>\n",
              "      <td>3</td>\n",
              "      <td>4</td>\n",
              "      <td>80</td>\n",
              "      <td>1</td>\n",
              "      <td>6</td>\n",
              "      <td>3</td>\n",
              "      <td>3</td>\n",
              "      <td>2</td>\n",
              "      <td>2</td>\n",
              "      <td>2</td>\n",
              "      <td>2</td>\n",
              "    </tr>\n",
              "  </tbody>\n",
              "</table>\n",
              "</div>"
            ],
            "text/plain": [
              "   Age Attrition  ... YearsSinceLastPromotion  YearsWithCurrManager\n",
              "0   41       Yes  ...                       0                     5\n",
              "1   49        No  ...                       1                     7\n",
              "2   37       Yes  ...                       0                     0\n",
              "3   33        No  ...                       3                     0\n",
              "4   27        No  ...                       2                     2\n",
              "\n",
              "[5 rows x 35 columns]"
            ]
          },
          "metadata": {
            "tags": []
          },
          "execution_count": 242
        }
      ]
    },
    {
      "cell_type": "code",
      "metadata": {
        "colab": {
          "base_uri": "https://localhost:8080/"
        },
        "id": "b_UQfkYNjp7O",
        "outputId": "aac8af17-045c-4344-d275-26440edaf086"
      },
      "source": [
        "hrattr_data.info()"
      ],
      "execution_count": 27,
      "outputs": [
        {
          "output_type": "stream",
          "text": [
            "<class 'pandas.core.frame.DataFrame'>\n",
            "RangeIndex: 1470 entries, 0 to 1469\n",
            "Data columns (total 35 columns):\n",
            " #   Column                    Non-Null Count  Dtype \n",
            "---  ------                    --------------  ----- \n",
            " 0   Age                       1470 non-null   int64 \n",
            " 1   Attrition                 1470 non-null   object\n",
            " 2   BusinessTravel            1470 non-null   object\n",
            " 3   DailyRate                 1470 non-null   int64 \n",
            " 4   Department                1470 non-null   object\n",
            " 5   DistanceFromHome          1470 non-null   int64 \n",
            " 6   Education                 1470 non-null   object\n",
            " 7   EducationField            1470 non-null   object\n",
            " 8   EmployeeCount             1470 non-null   object\n",
            " 9   EmployeeNumber            1470 non-null   int64 \n",
            " 10  EnvironmentSatisfaction   1470 non-null   object\n",
            " 11  Gender                    1470 non-null   object\n",
            " 12  HourlyRate                1470 non-null   int64 \n",
            " 13  JobInvolvement            1470 non-null   object\n",
            " 14  JobLevel                  1470 non-null   object\n",
            " 15  JobRole                   1470 non-null   object\n",
            " 16  JobSatisfaction           1470 non-null   object\n",
            " 17  MaritalStatus             1470 non-null   object\n",
            " 18  MonthlyIncome             1470 non-null   int64 \n",
            " 19  MonthlyRate               1470 non-null   int64 \n",
            " 20  NumCompaniesWorked        1470 non-null   object\n",
            " 21  Over18                    1470 non-null   object\n",
            " 22  OverTime                  1470 non-null   object\n",
            " 23  PercentSalaryHike         1470 non-null   int64 \n",
            " 24  PerformanceRating         1470 non-null   object\n",
            " 25  RelationshipSatisfaction  1470 non-null   object\n",
            " 26  StandardHours             1470 non-null   object\n",
            " 27  StockOptionLevel          1470 non-null   object\n",
            " 28  TotalWorkingYears         1470 non-null   int64 \n",
            " 29  TrainingTimesLastYear     1470 non-null   object\n",
            " 30  WorkLifeBalance           1470 non-null   object\n",
            " 31  YearsAtCompany            1470 non-null   int64 \n",
            " 32  YearsInCurrentRole        1470 non-null   int64 \n",
            " 33  YearsSinceLastPromotion   1470 non-null   int64 \n",
            " 34  YearsWithCurrManager      1470 non-null   int64 \n",
            "dtypes: int64(13), object(22)\n",
            "memory usage: 402.1+ KB\n"
          ],
          "name": "stdout"
        }
      ]
    },
    {
      "cell_type": "markdown",
      "metadata": {
        "id": "cO3WbkgIubUf"
      },
      "source": [
        "- null 값이 없는 보기드문 데이터이다. 널값처리는 패스!\n",
        "- 범주형 변수가 있기때문에 get_dummies를 활용해 변수처리가 필요\n",
        "- 결과 값인 \"Attrition\" 을 0과 1로 변화해야함"
      ]
    },
    {
      "cell_type": "code",
      "metadata": {
        "id": "enHch0fF9fO3"
      },
      "source": [
        "#Attrition 값변경 yes : 1, no : 0\n",
        "hrattr_data['Attrition'] = hrattr_data['Attrition'].apply(lambda x: 1 if x == 'Yes' else 0)"
      ],
      "execution_count": 243,
      "outputs": []
    },
    {
      "cell_type": "markdown",
      "metadata": {
        "id": "1Hr8r0D1wL-y"
      },
      "source": [
        "## 해당기업의 근무환경을 알아보자"
      ]
    },
    {
      "cell_type": "code",
      "metadata": {
        "colab": {
          "base_uri": "https://localhost:8080/"
        },
        "id": "tnPJ0rT8vSqb",
        "outputId": "a287ff04-373d-4c76-e9d3-01a088bf150e"
      },
      "source": [
        "hrattr_data['Attrition'].value_counts()"
      ],
      "execution_count": 20,
      "outputs": [
        {
          "output_type": "execute_result",
          "data": {
            "text/plain": [
              "0    1233\n",
              "1     237\n",
              "Name: Attrition, dtype: int64"
            ]
          },
          "metadata": {
            "tags": []
          },
          "execution_count": 20
        }
      ]
    },
    {
      "cell_type": "markdown",
      "metadata": {
        "id": "jLBuReFxv1im"
      },
      "source": [
        "- 라벨값 분포를 보면 1이 매우 적음을 알 수 있다. 퇴사한 데이터이기 때문, 추후 모델링때 class_weight 부여 필요"
      ]
    },
    {
      "cell_type": "code",
      "metadata": {
        "colab": {
          "base_uri": "https://localhost:8080/"
        },
        "id": "V2FdNJLfvywF",
        "outputId": "2803314d-f6a1-4acd-eb1d-08077c2fdba4"
      },
      "source": [
        "#근무환경 만족도\n",
        "hrattr_data['EnvironmentSatisfaction'].value_counts()\n",
        "\n",
        "#1이 안좋다는 가정하에 대체로 만족할만한 환경이라는 답변이 우세"
      ],
      "execution_count": 21,
      "outputs": [
        {
          "output_type": "execute_result",
          "data": {
            "text/plain": [
              "3    453\n",
              "4    446\n",
              "2    287\n",
              "1    284\n",
              "Name: EnvironmentSatisfaction, dtype: int64"
            ]
          },
          "metadata": {
            "tags": []
          },
          "execution_count": 21
        }
      ]
    },
    {
      "cell_type": "code",
      "metadata": {
        "colab": {
          "base_uri": "https://localhost:8080/"
        },
        "id": "QLmhujJgwkBn",
        "outputId": "b52b5e76-559b-41a1-eb8c-591c9774f2b5"
      },
      "source": [
        "#초과근무 \n",
        "hrattr_data['OverTime'].value_counts()\n",
        "\n",
        "#거의 두배이상이 초과근무를 안했다. 다소 초과근무 압박이 없는? 회사인거 같다"
      ],
      "execution_count": 23,
      "outputs": [
        {
          "output_type": "execute_result",
          "data": {
            "text/plain": [
              "No     1054\n",
              "Yes     416\n",
              "Name: OverTime, dtype: int64"
            ]
          },
          "metadata": {
            "tags": []
          },
          "execution_count": 23
        }
      ]
    },
    {
      "cell_type": "code",
      "metadata": {
        "id": "tcWJSKJcw5rb"
      },
      "source": [
        "#연령\n",
        "\n",
        "print(\"평균연령\", round(hrattr_data['Age'].mean()))\n",
        "hrattr_data['Age'].value_counts().hist()\n",
        "\n",
        "#우리나라 2018년 사내평균연령이 42세인 것을 감안하면 해당기업은 젊은층에 속함"
      ],
      "execution_count": null,
      "outputs": []
    },
    {
      "cell_type": "code",
      "metadata": {
        "colab": {
          "base_uri": "https://localhost:8080/"
        },
        "id": "zTFg7VYbxQWH",
        "outputId": "67447375-a4e7-4725-f07c-c8ebaf7f7eb6"
      },
      "source": [
        "#부서\n",
        "\n",
        "hrattr_data['Department'].value_counts()\n",
        "#데이터가 어느정도 필터링이 됬겠지만, r&d인원이 상당히 많음"
      ],
      "execution_count": 34,
      "outputs": [
        {
          "output_type": "execute_result",
          "data": {
            "text/plain": [
              "Research & Development    961\n",
              "Sales                     446\n",
              "Human Resources            63\n",
              "Name: Department, dtype: int64"
            ]
          },
          "metadata": {
            "tags": []
          },
          "execution_count": 34
        }
      ]
    },
    {
      "cell_type": "code",
      "metadata": {
        "colab": {
          "base_uri": "https://localhost:8080/",
          "height": 175
        },
        "id": "U9uIkytjycXo",
        "outputId": "adc17842-14ec-4648-ddb3-682e26afd04b"
      },
      "source": [
        "pd.crosstab(hrattr_data['Department'],hrattr_data['Attrition'])"
      ],
      "execution_count": 35,
      "outputs": [
        {
          "output_type": "execute_result",
          "data": {
            "text/html": [
              "<div>\n",
              "<style scoped>\n",
              "    .dataframe tbody tr th:only-of-type {\n",
              "        vertical-align: middle;\n",
              "    }\n",
              "\n",
              "    .dataframe tbody tr th {\n",
              "        vertical-align: top;\n",
              "    }\n",
              "\n",
              "    .dataframe thead th {\n",
              "        text-align: right;\n",
              "    }\n",
              "</style>\n",
              "<table border=\"1\" class=\"dataframe\">\n",
              "  <thead>\n",
              "    <tr style=\"text-align: right;\">\n",
              "      <th>Attrition</th>\n",
              "      <th>0</th>\n",
              "      <th>1</th>\n",
              "    </tr>\n",
              "    <tr>\n",
              "      <th>Department</th>\n",
              "      <th></th>\n",
              "      <th></th>\n",
              "    </tr>\n",
              "  </thead>\n",
              "  <tbody>\n",
              "    <tr>\n",
              "      <th>Human Resources</th>\n",
              "      <td>51</td>\n",
              "      <td>12</td>\n",
              "    </tr>\n",
              "    <tr>\n",
              "      <th>Research &amp; Development</th>\n",
              "      <td>828</td>\n",
              "      <td>133</td>\n",
              "    </tr>\n",
              "    <tr>\n",
              "      <th>Sales</th>\n",
              "      <td>354</td>\n",
              "      <td>92</td>\n",
              "    </tr>\n",
              "  </tbody>\n",
              "</table>\n",
              "</div>"
            ],
            "text/plain": [
              "Attrition                 0    1\n",
              "Department                      \n",
              "Human Resources          51   12\n",
              "Research & Development  828  133\n",
              "Sales                   354   92"
            ]
          },
          "metadata": {
            "tags": []
          },
          "execution_count": 35
        }
      ]
    },
    {
      "cell_type": "code",
      "metadata": {
        "colab": {
          "base_uri": "https://localhost:8080/"
        },
        "id": "7UBx4gSiy49m",
        "outputId": "c63bb9cb-14ff-4a51-9943-c082ab7f0c85"
      },
      "source": [
        "#근속연수\n",
        "\n",
        "hrattr_data['YearsAtCompany'].mean()\n",
        "\n",
        "#우리나라 2020년 기준 6.8년이다. 해당기업은 근속연수가 비교적 우수함"
      ],
      "execution_count": 41,
      "outputs": [
        {
          "output_type": "execute_result",
          "data": {
            "text/plain": [
              "7.0081632653061225"
            ]
          },
          "metadata": {
            "tags": []
          },
          "execution_count": 41
        }
      ]
    },
    {
      "cell_type": "code",
      "metadata": {
        "colab": {
          "base_uri": "https://localhost:8080/"
        },
        "id": "OaoiaSsU0bkL",
        "outputId": "462bbaf6-8938-4cd3-fbda-519bb0a4bdaa"
      },
      "source": [
        "hrattr_data['Gender'].value_counts()\n"
      ],
      "execution_count": 42,
      "outputs": [
        {
          "output_type": "execute_result",
          "data": {
            "text/plain": [
              "Male      882\n",
              "Female    588\n",
              "Name: Gender, dtype: int64"
            ]
          },
          "metadata": {
            "tags": []
          },
          "execution_count": 42
        }
      ]
    },
    {
      "cell_type": "code",
      "metadata": {
        "colab": {
          "base_uri": "https://localhost:8080/"
        },
        "id": "OqYNVEJF1Owe",
        "outputId": "537a1136-2afb-48a8-8d48-eb68c3a84af8"
      },
      "source": [
        "#워라벨\n",
        "\n",
        "hrattr_data['WorkLifeBalance'].value_counts()\n",
        "\n",
        "#전반적으로 워라벨이 만족한다는 대답이다. "
      ],
      "execution_count": 43,
      "outputs": [
        {
          "output_type": "execute_result",
          "data": {
            "text/plain": [
              "3    893\n",
              "2    344\n",
              "4    153\n",
              "1     80\n",
              "Name: WorkLifeBalance, dtype: int64"
            ]
          },
          "metadata": {
            "tags": []
          },
          "execution_count": 43
        }
      ]
    },
    {
      "cell_type": "code",
      "metadata": {
        "colab": {
          "base_uri": "https://localhost:8080/"
        },
        "id": "dYjg0DIf1cLd",
        "outputId": "e6560dd1-2cbf-4a91-c33b-34782c4bbbe7"
      },
      "source": [
        "hrattr_data['NumCompaniesWorked'].value_counts()\n",
        "\n",
        "#첫 회사 경험 후 해당기업으로 이직한 숫자가 압도적으로 많다."
      ],
      "execution_count": 44,
      "outputs": [
        {
          "output_type": "execute_result",
          "data": {
            "text/plain": [
              "1    521\n",
              "0    197\n",
              "3    159\n",
              "2    146\n",
              "4    139\n",
              "7     74\n",
              "6     70\n",
              "5     63\n",
              "9     52\n",
              "8     49\n",
              "Name: NumCompaniesWorked, dtype: int64"
            ]
          },
          "metadata": {
            "tags": []
          },
          "execution_count": 44
        }
      ]
    },
    {
      "cell_type": "code",
      "metadata": {
        "colab": {
          "base_uri": "https://localhost:8080/",
          "height": 303
        },
        "id": "9GgcseyU2jPT",
        "outputId": "36e3b69b-ea93-4809-ac85-cbf5be1e10b5"
      },
      "source": [
        "print(\"평균한달수입 :\" , round(hrattr_data['MonthlyIncome'].mean()))\n",
        "hrattr_data['MonthlyIncome'].hist(bins = list(range(2000,20000,1000)))\n",
        "\n",
        "#미국평균연봉이 2020년 기준 75000달러이고 달로 따지면 6200정도이다. \n",
        "#평균 6500이지만 6000이하의 달러를 받는 직원이 과반이다."
      ],
      "execution_count": 53,
      "outputs": [
        {
          "output_type": "stream",
          "text": [
            "평균한달수입 : 6503\n"
          ],
          "name": "stdout"
        },
        {
          "output_type": "execute_result",
          "data": {
            "text/plain": [
              "<matplotlib.axes._subplots.AxesSubplot at 0x7f4c85d5c6d0>"
            ]
          },
          "metadata": {
            "tags": []
          },
          "execution_count": 53
        },
        {
          "output_type": "display_data",
          "data": {
            "image/png": "[encoded data removed]",
            "text/plain": [
              "<Figure size 432x288 with 1 Axes>"
            ]
          },
          "metadata": {
            "tags": [],
            "needs_background": "light"
          }
        }
      ]
    },
    {
      "cell_type": "markdown",
      "metadata": {
        "id": "kcRfQMCL1_Te"
      },
      "source": [
        "- 워라벨 우수, 장기근속 우수, 해당기업으로 이직 다수, 연봉은 다소 낮음\n",
        "- 결과적으로 근무환경이 잘 갖춰져 있는 회사이고 워라벨을 중시하는 사람들이 다니는 회사라고 판단할 수 있음"
      ]
    },
    {
      "cell_type": "markdown",
      "metadata": {
        "id": "_IJkGQQr5WUD"
      },
      "source": [
        "#데이터 전처리"
      ]
    },
    {
      "cell_type": "code",
      "metadata": {
        "id": "ELXLLRFXPTeK"
      },
      "source": [
        "#employeeNumber는 단순 구분 숫자 임으로 삭제\n",
        "hrattr_data.drop('EmployeeNumber', axis=1, inplace=True)"
      ],
      "execution_count": 244,
      "outputs": []
    },
    {
      "cell_type": "markdown",
      "metadata": {
        "id": "sdU1GMlNB4rh"
      },
      "source": [
        "##Dtype은 int이나 내용이 범주형인 피쳐 확인"
      ]
    },
    {
      "cell_type": "markdown",
      "metadata": {
        "id": "SFu22G9VDIGD"
      },
      "source": [
        "- Dtype은 int이나 그 형태가 범주형을 띄는 피쳐들이 있다. 해당피쳐들을 추출하여 범주형피쳐로 전환"
      ]
    },
    {
      "cell_type": "code",
      "metadata": {
        "id": "7ZsRLlLmC_-o"
      },
      "source": [
        "#Dtype이 int 피쳐 추출\n",
        "continuous_columns = set(hrattr_data.columns)- set(hrattr_data.select_dtypes(include=[np.object]).columns)"
      ],
      "execution_count": 245,
      "outputs": []
    },
    {
      "cell_type": "code",
      "metadata": {
        "id": "aYcjl6GQCFjg"
      },
      "source": [
        "#object로 변환\n",
        "for i in continuous_columns:\n",
        "  if len(hrattr_data[i].value_counts().index.unique()) <= 10:\n",
        "    hrattr_data[i] = hrattr_data[i].astype('object')"
      ],
      "execution_count": 246,
      "outputs": []
    },
    {
      "cell_type": "markdown",
      "metadata": {
        "id": "rUn4NDd15aXs"
      },
      "source": [
        "## 이상치 확인"
      ]
    },
    {
      "cell_type": "code",
      "metadata": {
        "id": "ZE4dlaHH3ZsQ"
      },
      "source": [
        "for column in hrattr_data.select_dtypes(include=[np.int]).columns:\n",
        "  q1, q3 = np.percentile(hrattr_data[column].values,[25,75])\n",
        "  iqr = q3-q1\n",
        "  lower_bound = q1 - (iqr * 1.5)\n",
        "  upper_bound = q3 + (iqr * 1.5)\n",
        "\n",
        "  outlier_index = hrattr_data[(hrattr_data[column] > upper_bound) | (hrattr_data[column] < lower_bound)].index\n",
        "  hrattr_data.drop(outlier_index, axis=0, inplace= True)\n",
        "  hrattr_data.reset_index(drop=True, inplace=True)"
      ],
      "execution_count": 247,
      "outputs": []
    },
    {
      "cell_type": "code",
      "metadata": {
        "colab": {
          "base_uri": "https://localhost:8080/",
          "height": 284
        },
        "id": "4RnQ6etk7nHo",
        "outputId": "e8da3c79-142e-445e-baeb-c08a9599a6b4"
      },
      "source": [
        "hrattr_data['Age'].hist()\n",
        "\n",
        "#이상치 제거 후 예쁜 정규분포의 형태를 띈다"
      ],
      "execution_count": 42,
      "outputs": [
        {
          "output_type": "execute_result",
          "data": {
            "text/plain": [
              "<matplotlib.axes._subplots.AxesSubplot at 0x7f88c39e4950>"
            ]
          },
          "metadata": {
            "tags": []
          },
          "execution_count": 42
        },
        {
          "output_type": "display_data",
          "data": {
            "image/png": "[encoded data removed]",
            "text/plain": [
              "<Figure size 432x288 with 1 Axes>"
            ]
          },
          "metadata": {
            "tags": [],
            "needs_background": "light"
          }
        }
      ]
    },
    {
      "cell_type": "code",
      "metadata": {
        "colab": {
          "base_uri": "https://localhost:8080/",
          "height": 284
        },
        "id": "_MQgwhjx7weU",
        "outputId": "a020c06c-e126-4988-8f15-2fe36b5091cc"
      },
      "source": [
        "hrattr_data['MonthlyIncome'].hist()\n",
        "\n",
        "#아직 한달수입은 정규분포 형태를 띄지 않는다 -> 정규화 작업 필요"
      ],
      "execution_count": 43,
      "outputs": [
        {
          "output_type": "execute_result",
          "data": {
            "text/plain": [
              "<matplotlib.axes._subplots.AxesSubplot at 0x7f88c24a8850>"
            ]
          },
          "metadata": {
            "tags": []
          },
          "execution_count": 43
        },
        {
          "output_type": "display_data",
          "data": {
            "image/png": "[encoded data removed]",
            "text/plain": [
              "<Figure size 432x288 with 1 Axes>"
            ]
          },
          "metadata": {
            "tags": [],
            "needs_background": "light"
          }
        }
      ]
    },
    {
      "cell_type": "markdown",
      "metadata": {
        "id": "-7VEde_QHpfN"
      },
      "source": [
        "##라벨 분리"
      ]
    },
    {
      "cell_type": "code",
      "metadata": {
        "id": "u4Sk9AyIHqz9"
      },
      "source": [
        "label = hrattr_data['Attrition']\n",
        "label = label.astype('int')\n",
        "hrattr_data.drop('Attrition', axis=1, inplace=True)"
      ],
      "execution_count": 248,
      "outputs": []
    },
    {
      "cell_type": "markdown",
      "metadata": {
        "id": "t6uQw8Pd8IEA"
      },
      "source": [
        "##원 핫 인코딩"
      ]
    },
    {
      "cell_type": "code",
      "metadata": {
        "id": "ZCAjw0i_8NUN"
      },
      "source": [
        "hrattr_data_object = pd.get_dummies(hrattr_data[hrattr_data.select_dtypes(include=[np.object]).columns])"
      ],
      "execution_count": 249,
      "outputs": []
    },
    {
      "cell_type": "markdown",
      "metadata": {
        "id": "CTjS22Kk7kE-"
      },
      "source": [
        "##정규화"
      ]
    },
    {
      "cell_type": "code",
      "metadata": {
        "id": "QEUyOB4Z7RRr"
      },
      "source": [
        "scaler = SS()\n",
        "\n",
        "data_scaled = scaler.fit_transform(hrattr_data[hrattr_data.select_dtypes(include=[np.int]).columns])"
      ],
      "execution_count": 250,
      "outputs": []
    },
    {
      "cell_type": "code",
      "metadata": {
        "id": "6kIBWzw1Q89C"
      },
      "source": [
        "data_scaled = pd.DataFrame(data_scaled,columns=hrattr_data.select_dtypes(include=[np.int]).columns)"
      ],
      "execution_count": 251,
      "outputs": []
    },
    {
      "cell_type": "markdown",
      "metadata": {
        "id": "XJjtUQeWQ1AV"
      },
      "source": [
        "#데이터 합치기"
      ]
    },
    {
      "cell_type": "code",
      "metadata": {
        "id": "fQ4NbbspQ2CM"
      },
      "source": [
        "hrattr_data_new = pd.concat([data_scaled,hrattr_data_object], axis=1)"
      ],
      "execution_count": 252,
      "outputs": []
    },
    {
      "cell_type": "markdown",
      "metadata": {
        "id": "wFYko9uQ8z6H"
      },
      "source": [
        "##데이터분리 \n",
        "- 트레이닝\n",
        "- 테스트"
      ]
    },
    {
      "cell_type": "code",
      "metadata": {
        "id": "3kYy7REM-H6s"
      },
      "source": [
        "x_train, x_test, y_train, y_test = train_test_split(hrattr_data_new, label, test_size = 0.2, \n",
        "                                                    random_state=28, stratify=label)"
      ],
      "execution_count": 253,
      "outputs": []
    },
    {
      "cell_type": "markdown",
      "metadata": {
        "id": "_ht6EsnJJrYY"
      },
      "source": [
        "##모델생성"
      ]
    },
    {
      "cell_type": "code",
      "metadata": {
        "colab": {
          "base_uri": "https://localhost:8080/"
        },
        "id": "3blVbGvSJmIA",
        "outputId": "e8058065-c620-406d-9b93-2ce62b794fd3"
      },
      "source": [
        "rf_fit  = rf(n_estimators=5000,criterion=\"gini\",max_depth=5,min_samples_split=2,bootstrap=True,\n",
        "                                max_features='auto',random_state=42,min_samples_leaf=1,class_weight = {0:0.3,1:0.7})\n",
        "rf_fit.fit(x_train,y_train)"
      ],
      "execution_count": 265,
      "outputs": [
        {
          "output_type": "execute_result",
          "data": {
            "text/plain": [
              "RandomForestClassifier(bootstrap=True, ccp_alpha=0.0,\n",
              "                       class_weight={0: 0.3, 1: 0.7}, criterion='gini',\n",
              "                       max_depth=5, max_features='auto', max_leaf_nodes=None,\n",
              "                       max_samples=None, min_impurity_decrease=0.0,\n",
              "                       min_impurity_split=None, min_samples_leaf=1,\n",
              "                       min_samples_split=2, min_weight_fraction_leaf=0.0,\n",
              "                       n_estimators=5000, n_jobs=None, oob_score=False,\n",
              "                       random_state=42, verbose=0, warm_start=False)"
            ]
          },
          "metadata": {
            "tags": []
          },
          "execution_count": 265
        }
      ]
    },
    {
      "cell_type": "code",
      "metadata": {
        "colab": {
          "base_uri": "https://localhost:8080/"
        },
        "id": "a_csNR_EN6hT",
        "outputId": "b85839ea-d92d-4315-b0cd-841f5e95d556"
      },
      "source": [
        "print (\"\\nRandom Forest - Train Confusion Matrix\\n\\n\",pd.crosstab(y_train,rf_fit.predict(x_train),rownames = [\"Actuall\"],colnames = [\"Predicted\"]))      \n",
        "print (\"\\nRandom Forest - Train accuracy\",round(accuracy_score(y_train,rf_fit.predict(x_train)),3))\n",
        "print (\"\\nRandom Forest  - Train Classification Report\\n\",classification_report(y_train,rf_fit.predict(x_train)))\n",
        "\n",
        "print (\"\\n\\nRandom Forest - Test Confusion Matrix\\n\\n\",pd.crosstab(y_test,rf_fit.predict(x_test),rownames = [\"Actuall\"],colnames = [\"Predicted\"]))      \n",
        "print (\"\\nRandom Forest - Test accuracy\",round(accuracy_score(y_test,rf_fit.predict(x_test)),3))\n",
        "print (\"\\nRandom Forest - Test Classification Report\\n\",classification_report(y_test,rf_fit.predict(x_test)))"
      ],
      "execution_count": 266,
      "outputs": [
        {
          "output_type": "stream",
          "text": [
            "\n",
            "Random Forest - Train Confusion Matrix\n",
            "\n",
            " Predicted    0   1\n",
            "Actuall           \n",
            "0          719  10\n",
            "1           75  81\n",
            "\n",
            "Random Forest - Train accuracy 0.904\n",
            "\n",
            "Random Forest  - Train Classification Report\n",
            "               precision    recall  f1-score   support\n",
            "\n",
            "           0       0.91      0.99      0.94       729\n",
            "           1       0.89      0.52      0.66       156\n",
            "\n",
            "    accuracy                           0.90       885\n",
            "   macro avg       0.90      0.75      0.80       885\n",
            "weighted avg       0.90      0.90      0.89       885\n",
            "\n",
            "\n",
            "\n",
            "Random Forest - Test Confusion Matrix\n",
            "\n",
            " Predicted    0   1\n",
            "Actuall           \n",
            "0          177   6\n",
            "1           29  10\n",
            "\n",
            "Random Forest - Test accuracy 0.842\n",
            "\n",
            "Random Forest - Test Classification Report\n",
            "               precision    recall  f1-score   support\n",
            "\n",
            "           0       0.86      0.97      0.91       183\n",
            "           1       0.62      0.26      0.36        39\n",
            "\n",
            "    accuracy                           0.84       222\n",
            "   macro avg       0.74      0.61      0.64       222\n",
            "weighted avg       0.82      0.84      0.81       222\n",
            "\n"
          ],
          "name": "stdout"
        }
      ]
    },
    {
      "cell_type": "code",
      "metadata": {
        "colab": {
          "base_uri": "https://localhost:8080/",
          "height": 621
        },
        "id": "5joqBYTUXY7P",
        "outputId": "71733633-3abf-4599-f40e-c121f293a6ca"
      },
      "source": [
        "# Plot of Variable importance by mean decrease in gini\n",
        "model_ranks = pd.Series(rf_fit.feature_importances_,index=x_train.columns, name='Importance').sort_values(ascending=False, inplace=False)\n",
        "model_ranks.index.name = 'Variables'\n",
        "top_features = model_ranks.iloc[:31].sort_values(ascending=True,inplace=False)\n",
        "plt.figure(figsize=(20,10))\n",
        "ax = top_features.plot(kind='barh')\n",
        "_ = ax.set_title(\"Variable Importance Plot\")\n",
        "_ = ax.set_xlabel('Mean decrease in Variance')\n",
        "_ = ax.set_yticklabels(top_features.index, fontsize=13)\n"
      ],
      "execution_count": 286,
      "outputs": [
        {
          "output_type": "display_data",
          "data": {
            "image/png": "[encoded data removed]",
            "text/plain": [
              "<Figure size 1440x720 with 1 Axes>"
            ]
          },
          "metadata": {
            "tags": [],
            "needs_background": "light"
          }
        }
      ]
    },
    {
      "cell_type": "code",
      "metadata": {
        "colab": {
          "base_uri": "https://localhost:8080/"
        },
        "id": "sr9-kl9pV4oL",
        "outputId": "1db7c3f7-b8f8-45fa-bbbd-1869f9e121a1"
      },
      "source": [
        "lr_clf = lr(penalty ='l2', C = 1)\n",
        "lr_clf.fit(x_train,y_train)"
      ],
      "execution_count": 282,
      "outputs": [
        {
          "output_type": "execute_result",
          "data": {
            "text/plain": [
              "LogisticRegression(C=1, class_weight=None, dual=False, fit_intercept=True,\n",
              "                   intercept_scaling=1, l1_ratio=None, max_iter=100,\n",
              "                   multi_class='auto', n_jobs=None, penalty='l2',\n",
              "                   random_state=None, solver='lbfgs', tol=0.0001, verbose=0,\n",
              "                   warm_start=False)"
            ]
          },
          "metadata": {
            "tags": []
          },
          "execution_count": 282
        }
      ]
    },
    {
      "cell_type": "code",
      "metadata": {
        "colab": {
          "base_uri": "https://localhost:8080/"
        },
        "id": "VeOQ1fkyWH1q",
        "outputId": "199cc5ed-ee99-4618-e748-3947e74effea"
      },
      "source": [
        "print (\"\\nLogisticRegression - Train Confusion Matrix\\n\\n\",pd.crosstab(y_train,lr_clf.predict(x_train),rownames = [\"Actuall\"],colnames = [\"Predicted\"]))      \n",
        "print (\"\\nLogisticRegression - Train accuracy\",round(accuracy_score(y_train,lr_clf.predict(x_train)),3))\n",
        "print (\"\\nLogisticRegression - Train Classification Report\\n\",classification_report(y_train,lr_clf.predict(x_train)))\n",
        "\n",
        "print (\"\\n\\nLogisticRegression - Test Confusion Matrix\\n\\n\",pd.crosstab(y_test,lr_clf.predict(x_test),rownames = [\"Actuall\"],colnames = [\"Predicted\"]))      \n",
        "print (\"\\nLogisticRegression - Test accuracy\",round(accuracy_score(y_test,lr_clf.predict(x_test)),3))\n",
        "print (\"\\nLogisticRegression - Test Classification Report\\n\",classification_report(y_test,lr_clf.predict(x_test)))"
      ],
      "execution_count": 283,
      "outputs": [
        {
          "output_type": "stream",
          "text": [
            "\n",
            "LogisticRegression - Train Confusion Matrix\n",
            "\n",
            " Predicted    0   1\n",
            "Actuall           \n",
            "0          713  16\n",
            "1           63  93\n",
            "\n",
            "LogisticRegression - Train accuracy 0.911\n",
            "\n",
            "LogisticRegression - Train Classification Report\n",
            "               precision    recall  f1-score   support\n",
            "\n",
            "           0       0.92      0.98      0.95       729\n",
            "           1       0.85      0.60      0.70       156\n",
            "\n",
            "    accuracy                           0.91       885\n",
            "   macro avg       0.89      0.79      0.82       885\n",
            "weighted avg       0.91      0.91      0.90       885\n",
            "\n",
            "\n",
            "\n",
            "LogisticRegression - Test Confusion Matrix\n",
            "\n",
            " Predicted    0   1\n",
            "Actuall           \n",
            "0          180   3\n",
            "1           19  20\n",
            "\n",
            "LogisticRegression - Test accuracy 0.901\n",
            "\n",
            "LogisticRegression - Test Classification Report\n",
            "               precision    recall  f1-score   support\n",
            "\n",
            "           0       0.90      0.98      0.94       183\n",
            "           1       0.87      0.51      0.65        39\n",
            "\n",
            "    accuracy                           0.90       222\n",
            "   macro avg       0.89      0.75      0.79       222\n",
            "weighted avg       0.90      0.90      0.89       222\n",
            "\n"
          ],
          "name": "stdout"
        }
      ]
    },
    {
      "cell_type": "code",
      "metadata": {
        "colab": {
          "base_uri": "https://localhost:8080/"
        },
        "id": "dAQ_5AElaNiG",
        "outputId": "8091a21a-5ecf-4a82-dc43-d0f383b840a6"
      },
      "source": [
        "model_coef = pd.Series(lr_clf.coef_[0], hrattr_data_new.columns).sort_values(ascending=False)"
      ],
      "execution_count": 298,
      "outputs": [
        {
          "output_type": "execute_result",
          "data": {
            "text/plain": [
              "OverTime_Yes                        1.085743\n",
              "BusinessTravel_Travel_Frequently    0.908302\n",
              "TrainingTimesLastYear_0             0.906118\n",
              "NumCompaniesWorked_5                0.865651\n",
              "WorkLifeBalance_1                   0.782667\n",
              "dtype: float64"
            ]
          },
          "metadata": {
            "tags": []
          },
          "execution_count": 298
        }
      ]
    },
    {
      "cell_type": "code",
      "metadata": {
        "colab": {
          "base_uri": "https://localhost:8080/",
          "height": 621
        },
        "id": "ua4itHVpa1FQ",
        "outputId": "5df373c1-daf6-4063-d93c-fa274af03366"
      },
      "source": [
        "model_ranks = pd.Series(model_coef,model_coef.index, name='Importance').sort_values(ascending=False, inplace=False)\n",
        "model_ranks.index.name = 'Variables'\n",
        "top_features = pd.concat([model_ranks.iloc[:10].sort_values(ascending=True,inplace=False), model_ranks.iloc[-10:]])\n",
        "plt.figure(figsize=(20,10))\n",
        "ax = top_features.plot(kind='barh')\n",
        "_ = ax.set_title(\"Variable coefficient Plot\")\n",
        "_ = ax.set_xlabel('coefficient')\n",
        "_ = ax.set_yticklabels(top_features.index, fontsize=13)"
      ],
      "execution_count": 305,
      "outputs": [
        {
          "output_type": "display_data",
          "data": {
            "image/png": "[encoded data removed]",
            "text/plain": [
              "<Figure size 1440x720 with 1 Axes>"
            ]
          },
          "metadata": {
            "tags": [],
            "needs_background": "light"
          }
        }
      ]
    },
    {
      "cell_type": "markdown",
      "metadata": {
        "id": "TKtAbyQVY2AY"
      },
      "source": [
        "![image.png](data:image/png;base64,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)"
      ]
    },
    {
      "cell_type": "markdown",
      "metadata": {
        "id": "_sxXAAtXemr8"
      },
      "source": [
        "그리드서치 알고리즘을 통해 파라미터 튜닝이 필요하지만 전반적으로 로지스틱 회귀의 성능이 더 좋게 나왔다."
      ]
    }
  ]
}